{
 "cells": [
  {
   "cell_type": "markdown",
   "metadata": {},
   "source": [
    "##### Спецкурс \"Методы и алгоритмы компьютерного зрения\"\n",
    "---"
   ]
  },
  {
   "cell_type": "markdown",
   "metadata": {},
   "source": [
    "### Дискретное преобразование Фурье и его использование в фильтрации изображений\n",
    "---\n",
    "\n",
    "#### $\\S$ 1. Быстрое преобразование Фурье\n",
    "Пусть \n",
    "\n",
    "$$\n",
    "W_n = e^{\\frac{2\\pi i}{n}},~~n\\in \\mathbf{N}.\n",
    "$$\n",
    "\n",
    "Вектор $\\mathrm{y} = \\begin{pmatrix}y_0 & y_1 & \\dots & y_{n-1}\\end{pmatrix}^T$, где\n",
    "\n",
    "$$\n",
    "y_k = \\sum\\limits_{j=0}^{n-1} a_j W_n^{-k\\cdot j}\n",
    "$$\n",
    "\n",
    "называется дискретным преобразованием Фурье (ДПФ) вектора коэффициентов $\\mathrm{a} = \\begin{pmatrix}a_0 & a_1 & \\dots & a_{n-1}\\end{pmatrix}^T$. Используется запись $\\mathrm{y} = \\mathrm{DFT}_n (\\mathrm{a})$, где $\\mathrm{DFT}$ сокращение Discrete Fourier Transform.\n",
    "\n",
    "Рекурсивный алгоритм $DFT_{n}(a)$, где $a$ -- вектор:\n",
    "\n",
    "$$\n",
    "y_k = DFT_{{n/2}}(a[::2]) + W_n^{-k}  DFT_{{n/2}}(a[1::2]),~~k=0,1,\\dots,\\frac{n}{2}-1;\n",
    "$$\n",
    "\n",
    "$$\n",
    "y_{k+\\frac{n}{2}} = DFT_{{n/2}}(a[::2]) - W_n^{-k}  DFT_{{n/2}}(a[1::2]),~~k=0,1,\\dots,\\frac{n}{2}-1.\n",
    "$$\n",
    "\n",
    "\n",
    "Обратное дискретное преобразование Фурье вычисляется по формуле\n",
    "\n",
    "$$\n",
    "a_j = \\frac{1}{n}\\sum\\limits_{k=0}^{n-1} y_k W_n^{k\\cdot j}.\n",
    "$$\n",
    "\n",
    "#### $\\S 2$ Задание\n",
    "\n",
    "Реализовать рекурсивный алгоритм быстрого преобразования Фурье и обратного преобразования для векторов"
   ]
  },
  {
   "cell_type": "code",
   "execution_count": 6,
   "metadata": {},
   "outputs": [],
   "source": [
    "import numpy as np\n",
    "import cmath as cm"
   ]
  },
  {
   "cell_type": "code",
   "execution_count": 7,
   "metadata": {},
   "outputs": [],
   "source": [
    "import numpy as np\n",
    "\n",
    "def fft1(a):\n",
    "    n = len(a)\n",
    "    if n == 1:\n",
    "        return a\n",
    "    else:\n",
    "        even = fft1(a[::2])\n",
    "        odd = fft1(a[1::2])\n",
    "        factor = np.exp(-2j * np.pi * np.arange(n) / n)\n",
    "        return np.concatenate([even + factor[:n // 2] * odd, even + factor[n // 2:] * odd])\n",
    "\n",
    "def Invfft1(y):\n",
    "    n = len(y)\n",
    "    if n == 1:\n",
    "        return y\n",
    "    else:\n",
    "        even = Invfft1(y[::2])\n",
    "        odd = Invfft1(y[1::2])\n",
    "        factor = np.exp(2j * np.pi * np.arange(n) / n)\n",
    "        return np.concatenate([even + factor[:n // 2] * odd, even + factor[n // 2:] * odd])\n",
    "\n",
    "def ifft1(y):\n",
    "    return Invfft1(y) / len(y)"
   ]
  },
  {
   "cell_type": "code",
   "execution_count": 8,
   "metadata": {},
   "outputs": [
    {
     "name": "stdout",
     "output_type": "stream",
     "text": [
      "Перобразование Фурье numpy =  [ 3.66084493+0.j          0.12491441-0.62119317j -0.99434251-0.03788404j\n",
      " -0.01195366-0.17558012j  1.22806063+0.j         -0.01195366+0.17558012j\n",
      " -0.99434251+0.03788404j  0.12491441+0.62119317j]\n",
      "Перобразование Фурье мое =  [ 3.66084493+0.00000000e+00j  0.12491441-6.21193171e-01j\n",
      " -0.99434251-3.78840448e-02j -0.01195366-1.75580122e-01j\n",
      "  1.22806063-1.48965075e-16j -0.01195366+1.75580122e-01j\n",
      " -0.99434251+3.78840448e-02j  0.12491441+6.21193171e-01j]\n"
     ]
    }
   ],
   "source": [
    "a = np.random.random(size = (8))\n",
    "y1 = np.fft.fft(a) # прямое преобразование, реализованное в numpy\n",
    "y2 = fft1(a)\n",
    "print('Перобразование Фурье numpy = ', y1)\n",
    "print('Перобразование Фурье мое = ', y2)"
   ]
  },
  {
   "cell_type": "code",
   "execution_count": 9,
   "metadata": {},
   "outputs": [
    {
     "name": "stdout",
     "output_type": "stream",
     "text": [
      "Обратное перобразование Фурье numpy =  [0.39076775 0.47861508 0.97110208 0.41128289 0.33428738 0.14852301\n",
      " 0.74829556 0.17797116]\n",
      "Обратное перобразование Фурье мое =  [0.39076775 0.47861508 0.97110208 0.41128289 0.33428738 0.14852301\n",
      " 0.74829556 0.17797116]\n"
     ]
    }
   ],
   "source": [
    "a1 = np.fft.ifft(y1).real # обратное преобразование, реализованное в numpy\n",
    "a2 = ifft1(y2).real\n",
    "print('Обратное перобразование Фурье numpy = ', a1)\n",
    "print('Обратное перобразование Фурье мое = ', a2)"
   ]
  },
  {
   "cell_type": "markdown",
   "metadata": {},
   "source": [
    "### Литература\n",
    "\n",
    "1. Кормен, Томас Х., Лейзерсон, Чарльз И., Ривест, Рональд Л., Штайн, Клиффорд. Алгоритмы: построение и анализ, 2-е издание.: пер. с англ. -- М. Издательский дом \"Вильямс\", 2013. -- 1296 с.: ил."
   ]
  }
 ],
 "metadata": {
  "kernelspec": {
   "display_name": "Python 3 (ipykernel)",
   "language": "python",
   "name": "python3"
  },
  "language_info": {
   "codemirror_mode": {
    "name": "ipython",
    "version": 3
   },
   "file_extension": ".py",
   "mimetype": "text/x-python",
   "name": "python",
   "nbconvert_exporter": "python",
   "pygments_lexer": "ipython3",
   "version": "3.9.13"
  }
 },
 "nbformat": 4,
 "nbformat_minor": 2
}
