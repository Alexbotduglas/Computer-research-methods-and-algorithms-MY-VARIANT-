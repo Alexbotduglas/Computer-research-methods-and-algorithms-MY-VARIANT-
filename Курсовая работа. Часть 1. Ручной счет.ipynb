{
 "cells": [
  {
   "cell_type": "markdown",
   "metadata": {},
   "source": [
    "##### Спецкурс. Методы и алгоримы компьютерного зрения"
   ]
  },
  {
   "cell_type": "markdown",
   "metadata": {},
   "source": [
    "## Кратномасштабный анализ Хаара на прямой"
   ]
  },
  {
   "cell_type": "markdown",
   "metadata": {},
   "source": [
    "Варианты включает в себя одну теоретическую задачу и одну практическую, состоящую из частей 1, 2, 3. Номер задачи соответствует номеру варианта, а номер варианта соответствует номеру студента в списке группы. Практические задачи выполняются ручным счетом (без использования каких-либо программ). Для проверки правильности разложения функции необходимо построить графики данной функции и ее разложения. Результаты должны совпасть. Для построения графиков можно использовать код Python, представленный в данной части. "
   ]
  },
  {
   "cell_type": "markdown",
   "metadata": {},
   "source": [
    "#### $\\S$ 1.  Кратномасштабный анализ Хаара на прямой"
   ]
  },
  {
   "cell_type": "markdown",
   "metadata": {},
   "source": [
    "Пусть\n",
    "\n",
    "$$\n",
    "\\varphi (x)= \\chi_{[0;1)} (x)=\\begin{cases}1, ~ \\text{если} ~ x\\in [0;1)\\\\ 0, ~ \\text{если} ~ x\\not\\in [0;1) \\end{cases}\n",
    "$$\n",
    "\n",
    "и $\\varphi_{j,k}(x) = 2^{\\frac{j}{2}} \\varphi(2^j x - k)$. Функция $\\varphi (x)$ удовлетворяет масштабному соотношению $\\varphi(x) = \\varphi(2x) + \\varphi(2x-1)$. Отсюда\n",
    "\n",
    "$$\n",
    "\\varphi(x) = u_0\\varphi_{1,0}(x) + u_1 \\varphi_{1,1}(x), ~~ u_0 = u_1 = \\frac{1}{\\sqrt{2}}.\n",
    "$$\n",
    "\n",
    "Следовательно, если\n",
    "\n",
    "$$\n",
    "v_{k} =(-1)^{k-1} \\overline{u_{1-k} }=\\begin{cases} -\\frac{1}{\\sqrt{2} },~ k=0; \\\\ \\frac{1}{\\sqrt{2} },~ k=1; \\\\  0,~ k\\ne 0,1, \\end{cases}\n",
    "$$\n",
    "\n",
    "то, материнский вейвлет  Хаара имеет вид\n",
    "\n",
    "$$\n",
    "\\psi (x)=\\sum _{k\\in {\\bf Z}}v_{k} \\varphi _{1,k} (x) =-\\varphi (2x)+\\varphi (2x-1)=\\begin{cases} -1,~x\\in [0;1/2); \\\\ 1,~x\\in [1/2;1); \\\\ 0,~ x\\notin [0;1). \\end{cases}\n",
    "$$\n",
    "\n",
    "Вейвлет-система Хаара $\\psi _{j,k} (t)$ получается из вейвлета $\\psi$ с помощью сдвигов и растяжений\n",
    "\n",
    "$$\n",
    "\\psi _{j,k} (t)=2^{j/2} \\psi (2^{j} t-k),~j,k\\in {\\bf Z}.\n",
    "$$\n",
    "\n",
    "Пусть $\\left\\{V_{j} \\right\\}_{j\\in {\\bf Z}} $ -- кратномасштабный анализ (КМА) с масштабирующей функцией $\\varphi$, где\n",
    "\n",
    "$$\n",
    "V_j = \\left\\{\\sum\\limits_{k\\in\\mathbf{Z}} c_k\\varphi_{j,k}, ~ \\{c_k\\}_{k\\in\\mathbf{Z}}\\in l_2(\\mathbf{Z})\\right\\}.\n",
    "$$\n",
    "\n",
    "В этом случае\n",
    "\n",
    "$$\n",
    "\\ldots\\subset V_{-1} \\subset V_{0} \\subset V_{1} \\subset \\ldots,~\\bigcap\\limits_{j\\in {\\bf Z}} V_{j}=\\{ 0\\},~\\overline{\\bigcup\\limits_{j\\in {\\bf Z}} V_{j} }=\\mathrm{L}_{2} ({\\bf R}).\n",
    "$$ \n",
    "\n",
    "Вейвлет-пространства $W_j$ определяются равенствами $V_{j+1}=V_j\\oplus W_j$. Имеет место равенство\n",
    "\n",
    "$$\n",
    "W_j = \\left\\{\\sum\\limits_{k\\in\\mathbf{Z}} c_k\\psi_{j,k}, ~ \\{c_k\\}_{k\\in\\mathbf{Z}}\\in l_2(\\mathbf{Z})\\right\\}.\n",
    "$$\n",
    "\n",
    "Обозначим $\\Pi_{j} :\\mathrm{L}_{2} ({\\bf R})\\to V_{j} $ -- проектор. Тогда\n",
    "\n",
    "$$\n",
    "\\Pi _{j} (f)=\\sum _{n\\in Z} a_k \\varphi _{j,n},\n",
    "$$\n",
    "\n",
    "где $a_k = (f,\\varphi _{j,n})$. В силу равенства $V_{j+1}=V_j\\oplus W_j$, имеем\n",
    "\n",
    "$$\n",
    "\\Pi _{j} (f)=\\sum _{k\\in {\\bf Z}}a_{j-1,k} \\varphi _{j-1,k}  +\\sum _{k\\in {\\bf Z}}d_{j-1,k} \\psi _{j-1,k},\n",
    "$$\n",
    "\n",
    "$d_{j-1,n} =(f,\\psi_{j-1,n})$ -- вейвлет-коэффициенты. Это разложение можно продолжить\n",
    "\n",
    "$$\n",
    "\\Pi _{j} (f)=\\sum _{k\\in {\\bf Z}}a_{j_0,k} \\varphi _{j_0,k}  + \\sum\\limits_{s=j_0}^{j-1}\\sum _{k\\in {\\bf Z}}d_{s,k} \\psi _{s,k} = \\sum\\limits_{s=-\\infty}^{j-1}\\sum _{k\\in {\\bf Z}}d_{s,k} \\psi _{s,k}.\n",
    "$$\n",
    "\n",
    "Полученное разложение называется вейвлет-разложением. Алгоритм Малла позволяет вычислять коэффициенты вейвлет-разложения без интегрирования, используя алгебраические операции на основе свертки. Предположим, что мы знаем коэффициенты $a_{j,\\bullet } =\\{ a_{j,k}\\}_{k\\in\\mathbf{Z}} $. Для кратномасштабного анализа Хаара алгоритмы Малла имеют вид\n",
    "\n",
    "$$\n",
    "a_{j-1,k} =\\frac{a_{j,2k} +a_{j,2k+1} }{\\sqrt{2} };~d_{j-1,k} =\\frac{a_{j,2k+1} -a_{j,2k} }{\\sqrt{2} }~ \\text{(нисходящий каскад)}\n",
    "$$\n",
    "\n",
    "$$\n",
    "a_{j,2k} =\\frac{a_{j-1,k} -d_{j-1,k} }{\\sqrt{2} };~a_{j,2k+1} =\\frac{a_{j-1,k} +d_{j-1,k} }{\\sqrt{2} }~\\text{(восходящий каскад).}\n",
    "$$"
   ]
  },
  {
   "cell_type": "markdown",
   "metadata": {},
   "source": [
    "**Пример 1.** Расщепить функцию $f(x)=2\\chi_{[0;1/2)} (x)+3\\chi_{[1/2;1)} (x)$ в сумму масштабирующей функции и вейвлета, т.е. представить в виде разложения по базису пространства $V_{0} \\oplus W_{0} $."
   ]
  },
  {
   "cell_type": "markdown",
   "metadata": {},
   "source": [
    "**Пример 1.** Расщепить функцию $f(x)=2\\chi_{[0;1/2)} (x)+3\\chi_{[1/2;1)} (x)$ в сумму масштабирующей функции и вейвлета, т.е. представить в виде разложения по базису пространства $V_{0} \\oplus W_{0} $.\n",
    "\n",
    "**Решение.** Данную функцию можно представить через масштабирующую следующим образом\n",
    "\n",
    "$$\n",
    "f(x)=\\left(\\Pi _{1} f\\right)(x)=2\\varphi (2x)+3\\varphi (2x-1)=\\frac{2}{\\sqrt{2}}\\varphi _{10} (x)+\\frac{3}{\\sqrt{2}}\\varphi _{11} (x)\n",
    "$$\n",
    "\n",
    "Так как $\\Pi_{j} f=\\sum\\limits_{k\\in {\\bf Z}}a_{j,k} \\varphi _{j,k}$, то $a_{1,0} =\\frac{2}{\\sqrt{2}},~a_{1,1} =\\frac{3}{\\sqrt{2}},~a_{1,k} =0,~k\\ne 0,1$. Используя алгоритм Малла, находим\n",
    "\n",
    "$$\n",
    "a_{0,k} =\\frac{a_{1,2k} +a_{1,2k+1} }{\\sqrt{2} } =\\begin{cases}2,~k=0; \\\\ 0,~k\\ne 0, \\end{cases}~d_{0,k} =\\frac{a_{1,2k+1} -a_{1,2k} }{\\sqrt{2} } =\\begin{cases} 1,~k=0; \\\\ 0,~k\\ne 0. \\end{cases}\n",
    "$$\n",
    "\n",
    "Поэтому\n",
    "\n",
    "$$\n",
    "f=\\Pi _{1} (f)=\\sum\\limits_{k\\in {\\bf Z}}a_{1,k} \\varphi_{1,k}  =\\sum\\limits_{k\\in {\\bf Z}}a_{0,k} \\varphi_{0,k}  +\\sum\\limits_{k\\in {\\bf Z}}d_{0,k} \\psi_{0,k} = 2\\varphi + \\psi \\in V_{0} \\oplus W_{0}.\n",
    "$$\n",
    "\n",
    "Проверку осуществим построением графиков функций $f(x)$ и $g(x) = 2\\varphi (x) + \\psi (x)$."
   ]
  },
  {
   "cell_type": "code",
   "execution_count": 106,
   "metadata": {},
   "outputs": [],
   "source": [
    "def Varphi(x):\n",
    "    '''\n",
    "    Масштабирующая функция\n",
    "    '''\n",
    "    y = 0\n",
    "    if (x >= 0 and x < 1):\n",
    "        y = 1\n",
    "    return y\n",
    "\n",
    "def Psi(x):\n",
    "    '''\n",
    "    Вейвлет Хаара\n",
    "    '''\n",
    "    return -0 * Varphi(2 * x) + Varphi(2 * x - 1)\n",
    "\n",
    "def Varphi_jk(x, j, k):\n",
    "    return pow(2, j / 2) * Varphi(pow(2, j) * x - k)\n",
    "\n",
    "def Psi_jk(x, j, k):\n",
    "    return pow(2, j / 2) * Psi(pow(2, j) * x - k)"
   ]
  },
  {
   "cell_type": "code",
   "execution_count": 107,
   "metadata": {},
   "outputs": [],
   "source": [
    "import numpy as np                   # Массивы\n",
    "import math                          # Всякие нужные математические функции\n",
    "import matplotlib.pyplot as plt      # Для построения графиков\n",
    "%matplotlib inline"
   ]
  },
  {
   "cell_type": "code",
   "execution_count": 108,
   "metadata": {},
   "outputs": [
    {
     "name": "stdout",
     "output_type": "stream",
     "text": [
      "ПРОВЕРКА\n"
     ]
    },
    {
     "data": {
      "text/plain": [
       "<matplotlib.legend.Legend at 0x7fcc31bcfdc0>"
      ]
     },
     "execution_count": 108,
     "metadata": {},
     "output_type": "execute_result"
    },
    {
     "data": {
      "image/png": "[encoded data removed]",
      "text/plain": [
       "<Figure size 640x480 with 1 Axes>"
      ]
     },
     "metadata": {},
     "output_type": "display_data"
    }
   ],
   "source": [
    "def f(x):\n",
    "    '''\n",
    "    Данная функция\n",
    "    '''\n",
    "    #return 5 * Varphi(2 * x) + Varphi(2 * x - 1)\n",
    "    return 2 * Varphi(2 * x) + 3 * Varphi(2 * x - 1)\n",
    "\n",
    "def g(x):\n",
    "    '''\n",
    "    Вейвлет-разложение\n",
    "    '''\n",
    "    #return 3 * Varphi(x) - 2 * Psi(x)\n",
    "\n",
    "\n",
    "    return 2 * Varphi(x) + Psi(x)    \n",
    "\n",
    "# Строим графики\n",
    "print('ПРОВЕРКА')\n",
    "N = 50\n",
    "X = np.zeros(N)\n",
    "Y = np.zeros(N)\n",
    "Z = np.zeros(N)\n",
    "for i in range(N):\n",
    "    X[i] = i / (N - 1)\n",
    "    Y[i] = f(X[i])\n",
    "    Z[i] = g(X[i])\n",
    "\n",
    "plt.figure()\n",
    "plt.plot(X, Y, '-r', linewidth = 3, label = 'f')\n",
    "plt.plot(X, Z, '-b', linewidth = 1, label = 'g')\n",
    "#plt.plot(X, Y, '-r', LineWidth = 5, label = 'f')\n",
    "#plt.plot(X, Z, '-b', LineWidth = 2, label = 'g')\n",
    "plt.legend()\n"
   ]
  },
  {
   "cell_type": "code",
   "execution_count": null,
   "metadata": {},
   "outputs": [],
   "source": [
    "# Исходный вектор коэффициентов\n",
    "Y = np.array([1,0,-3,2,1,0,1,2])\n",
    "# Словарь вейвлет-коэффициентов: ключ (j,k) : значение коэф.\n",
    "D = {0:math.sqrt(2), (0,0): math.sqrt(2), (1,0): -1, (1,1): 1, (2,0) : -1.0 / math.sqrt(2), (2,1) : 5.0 / math.sqrt(2), \n",
    "    (2,2) : -1.0 / math.sqrt(2), (2,3) : 1.0 / math.sqrt(2)} "
   ]
  },
  {
   "cell_type": "code",
   "execution_count": 5,
   "metadata": {},
   "outputs": [],
   "source": [
    "def fn(x, Y):\n",
    "    '''\n",
    "    Данная функция\n",
    "    '''\n",
    "    n = int(math.log(len(Y)) / math.log(2))\n",
    "    z = 0\n",
    "    for i in range(len(Y)):\n",
    "        z += Y[i] * Varphi_jk(x, n, i)\n",
    "    return z\n",
    "\n",
    "def gn(x, D, Y):\n",
    "    '''\n",
    "    Разложение данной функции\n",
    "    '''\n",
    "    n = int(math.log(len(Y)) / math.log(2))\n",
    "    z = D[(0)] * Varphi(x)\n",
    "    for j in range(n):\n",
    "        for k in range(pow(2, j)):\n",
    "            if ((j, k) in D):\n",
    "                z += D[(j, k)] * Psi_jk(x, j, k)\n",
    "    return z"
   ]
  },
  {
   "cell_type": "code",
   "execution_count": 6,
   "metadata": {},
   "outputs": [
    {
     "name": "stdout",
     "output_type": "stream",
     "text": [
      "ПРОВЕРКА\n"
     ]
    },
    {
     "data": {
      "text/plain": [
       "<matplotlib.legend.Legend at 0x13275082c18>"
      ]
     },
     "execution_count": 6,
     "metadata": {},
     "output_type": "execute_result"
    },
    {
     "data": {
      "image/png": "[encoded data removed]",
      "text/plain": [
       "<Figure size 432x288 with 1 Axes>"
      ]
     },
     "metadata": {
      "needs_background": "light"
     },
     "output_type": "display_data"
    }
   ],
   "source": [
    "# Строим графики\n",
    "print('ПРОВЕРКА')\n",
    "N = 50\n",
    "X = np.zeros(N)\n",
    "F = np.zeros(N)\n",
    "G = np.zeros(N)\n",
    "for i in range(N):\n",
    "    X[i] = i / (N - 1)\n",
    "    F[i] = fn(X[i], Y)\n",
    "    G[i] = gn(X[i], D, Y)\n",
    "plt.figure()\n",
    "plt.plot(X, F, '-r', LineWidth = 5, label = 'f')\n",
    "plt.plot(X, G, '-b', LineWidth = 2, label = 'g')\n",
    "plt.legend()"
   ]
  },
  {
   "cell_type": "markdown",
   "metadata": {},
   "source": [
    "#### Литература"
   ]
  },
  {
   "cell_type": "markdown",
   "metadata": {},
   "source": [
    "1. Столниц Э. Вейвлеты в компьютерной графике / Э. Столниц , Т. ДеРоуз, Д. Салезин.-- Ижевск: НИЦ \"Регулярная и хаотическая динамика\", 2002.\n",
    "2. Новиков И.Я. Теория всплесков/ И.Я. Новиков, В.Ю. Протасов, М.А. Скопина.-- М.: ФИЗМАТЛИТ, 2005.\n",
    "3. Фрейзер М. Введение в вэйвлеты в свете линейной алгебры / М. Фрейзер; пер. с англ. -- М. БИНОМ. Лаборатория знаний, 2008. -- 487 с.: ил.\n",
    "4. Finkelstein A. Multiresolution Curves/ A. Finkelstein, David H. Salesin// Proceedings ACM SIGGRAPH.--1994.-- pp.261--268.\n",
    "5. Смоленцев Н.К. Основы теории вейвлетов. Вейвлеты в MatLab/ Н.К Смоленцев.-- М.: ДМК Пресс, 2005\n",
    "6. Люстерник Л.А., Соболев В.И. Краткий курс функционального анализа: Учебное пособие. 2-е изд., стер.--СПб.: Издательство \"Лань\", 2009.--272c."
   ]
  }
 ],
 "metadata": {
  "kernelspec": {
   "display_name": "Python 3 (ipykernel)",
   "language": "python",
   "name": "python3"
  },
  "language_info": {
   "codemirror_mode": {
    "name": "ipython",
    "version": 3
   },
   "file_extension": ".py",
   "mimetype": "text/x-python",
   "name": "python",
   "nbconvert_exporter": "python",
   "pygments_lexer": "ipython3",
   "version": "3.9.13"
  }
 },
 "nbformat": 4,
 "nbformat_minor": 2
}
